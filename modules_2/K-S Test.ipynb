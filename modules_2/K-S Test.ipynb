{
 "cells": [
  {
   "cell_type": "markdown",
   "metadata": {
    "colab_type": "text",
    "id": "G00e-lK26-wc"
   },
   "source": [
    "# K-S Test\n",
    "\n",
    "The bandwidth (bw) parameter of the KDE controls how tightly the estimation is fit to the data, much like the bin size in a histogram. We are plotting KDE with different value of bw = 0.1 or 0.5 as explained in the video i.e., this factor is (effectively) multiplied by the standard deviation of the data you’re plotting to give you the actual bandwidth used in the kernels. if you doesn’t provide, it will take default value. The default behavior tries to guess a good value using a common reference rule Please check the graph with different bw: https://imgur.com/SpngkhR Also Please read the following link, you will understand bandwidth parameter in kdeplot https://stackoverflow.com/questions/37932283/confusion-with-bandwidth-on-seaborns-kdeplot\n",
    "\n",
    "#1. In kstest, our null hypothesis H0 i.e, the sample came from the normal distribution is fixed we cant change it. 2. from scipy.stats import kstest import numpy as np x = np.random.normal(0,1,1000) test_stat = kstest(x, 'norm') #>>> test_stat #(0.021080234718821145, 0.76584491300591395) Which means that at p-value of 0.76 so we can not reject the null hypothesis that the two distributions are identical. That means If the K-S statistic is small or the p-value is high, then we cannot reject the hypothesis that the distributions of the two samples are the same. 3. The k-s test returns a D statistic and a p-value corresponding to the D statistic. The D statistic is the absolute max distance (supremum) between the CDFs of the two samples. The closer this number is to 0 the more likely it is that the two samples were drawn from the same distribution. Check out the Wikipedia page for the k-s test. It provides a good explanation: https://en.m.wikipedia.org/wiki/Kolmogorov%E2%80%93Smirnov_test The p-value returned by the k-s test has the same interpretation as other p-values. You reject the null hypothesis that the two samples were drawn from the same distribution if the p-value is less than your significance level."
   ]
  },
  {
   "cell_type": "code",
   "execution_count": 1,
   "metadata": {
    "colab": {},
    "colab_type": "code",
    "id": "VVaUsg6J6-we",
    "outputId": "e5eaf590-2739-473a-aa53-e71988b04055"
   },
   "outputs": [
    {
     "data": {
      "text/plain": [
       "<Figure size 640x480 with 1 Axes>"
      ]
     },
     "metadata": {},
     "output_type": "display_data"
    }
   ],
   "source": [
    "import numpy as np\n",
    "import seaborn as sns\n",
    "from scipy import stats\n",
    "import matplotlib.pyplot as plt\n",
    "\n",
    "#generate a gaussian r.v X\n",
    "x = stats.norm.rvs(size=1000);\n",
    "sns.set_style('whitegrid')\n",
    "sns.kdeplot(np.array(x), bw=0.5)\n",
    "plt.show()\n",
    "\n",
    "\n"
   ]
  },
  {
   "cell_type": "code",
   "execution_count": 2,
   "metadata": {
    "colab": {},
    "colab_type": "code",
    "id": "Yc6xyZVd6-ws",
    "outputId": "a085ef18-d5e1-4f5d-e2d8-0e16f0636e11"
   },
   "outputs": [
    {
     "data": {
      "text/plain": [
       "KstestResult(statistic=0.03899523614988076, pvalue=0.09306398134552873)"
      ]
     },
     "execution_count": 2,
     "metadata": {},
     "output_type": "execute_result"
    }
   ],
   "source": [
    "stats.kstest(x, 'norm')"
   ]
  },
  {
   "cell_type": "code",
   "execution_count": 3,
   "metadata": {
    "colab": {},
    "colab_type": "code",
    "id": "BndtAi0L6-w0",
    "outputId": "fc3b0c56-ee28-4d05-9ef7-83188f9b19e6"
   },
   "outputs": [
    {
     "data": {
      "image/png": "[encoded data removed]",
      "text/plain": [
       "<Figure size 432x288 with 1 Axes>"
      ]
     },
     "metadata": {},
     "output_type": "display_data"
    }
   ],
   "source": [
    "# Y ~ Continous Uniform Distribution(0,1)\n",
    "y = np.random.uniform(0,1,10000);\n",
    "sns.kdeplot(np.array(y), bw=0.1)\n",
    "plt.show()"
   ]
  },
  {
   "cell_type": "code",
   "execution_count": 4,
   "metadata": {
    "colab": {},
    "colab_type": "code",
    "id": "macSZRAt6-w6",
    "outputId": "337c8140-46e0-432d-f3ad-f01c8726ba0f"
   },
   "outputs": [
    {
     "data": {
      "text/plain": [
       "KstestResult(statistic=0.5000267976297401, pvalue=0.0)"
      ]
     },
     "execution_count": 4,
     "metadata": {},
     "output_type": "execute_result"
    }
   ],
   "source": [
    "stats.kstest(y, 'norm')"
   ]
  },
  {
   "cell_type": "code",
   "execution_count": 0,
   "metadata": {
    "colab": {},
    "colab_type": "code",
    "id": "QGewRMzS6-xC"
   },
   "outputs": [],
   "source": []
  }
 ],
 "metadata": {
  "colab": {
   "name": "12.26.ipynb",
   "provenance": [],
   "version": "0.3.2"
  },
  "kernelspec": {
   "display_name": "Python 3",
   "language": "python",
   "name": "python3"
  },
  "language_info": {
   "codemirror_mode": {
    "name": "ipython",
    "version": 3
   },
   "file_extension": ".py",
   "mimetype": "text/x-python",
   "name": "python",
   "nbconvert_exporter": "python",
   "pygments_lexer": "ipython3",
   "version": "3.6.5"
  }
 },
 "nbformat": 4,
 "nbformat_minor": 1
}
